{
 "cells": [
  {
   "cell_type": "code",
   "execution_count": 1,
   "metadata": {},
   "outputs": [],
   "source": [
    "import requests"
   ]
  },
  {
   "cell_type": "code",
   "execution_count": 43,
   "metadata": {},
   "outputs": [],
   "source": [
    "student_data = requests.get('https://stark-mountain-17519.herokuapp.com/students/1402365')"
   ]
  },
  {
   "cell_type": "code",
   "execution_count": 54,
   "metadata": {},
   "outputs": [],
   "source": [
    "course_data = requests.get('https://stark-mountain-17519.herokuapp.com/courses/1661')"
   ]
  },
  {
   "cell_type": "code",
   "execution_count": 44,
   "metadata": {
    "scrolled": true
   },
   "outputs": [
    {
     "data": {
      "text/plain": [
       "{'Major2': 'CL ST',\n",
       " 'Major3': None,\n",
       " 'courses': [1582,\n",
       "  1660,\n",
       "  4429,\n",
       "  1604,\n",
       "  1661,\n",
       "  4429,\n",
       "  1605,\n",
       "  1662,\n",
       "  1680,\n",
       "  1582,\n",
       "  1660,\n",
       "  4429,\n",
       "  1604,\n",
       "  1661,\n",
       "  4429,\n",
       "  1605,\n",
       "  1662,\n",
       "  1680],\n",
       " '_id': 1402365,\n",
       " 'Major1': 'LSJ',\n",
       " '__v': 0}"
      ]
     },
     "execution_count": 44,
     "metadata": {},
     "output_type": "execute_result"
    }
   ],
   "source": [
    "(student_data.json())"
   ]
  },
  {
   "cell_type": "code",
   "execution_count": 55,
   "metadata": {},
   "outputs": [
    {
     "data": {
      "text/plain": [
       "{'desc': 'Readings from the orations of Cicero and the poetry of Ovid; elementary exercises in Latin prose composition. Prerequisite: LATIN 305. Offered: W.',\n",
       " 'INS': False,\n",
       " 'VLPA': True,\n",
       " 'DIV': False,\n",
       " 'W': False,\n",
       " 'QSR': False,\n",
       " 'NW': False,\n",
       " '_id': 1661,\n",
       " 'course_credits': 5,\n",
       " 'course_number': 306,\n",
       " 'dept_abbrev': 'LATIN',\n",
       " 'title': 'Cicero and Ovid',\n",
       " '__v': 0}"
      ]
     },
     "execution_count": 55,
     "metadata": {},
     "output_type": "execute_result"
    }
   ],
   "source": [
    "(course_data.json())"
   ]
  },
  {
   "cell_type": "markdown",
   "metadata": {},
   "source": [
    "for each student\n",
    "    extract major1, major2, major 3 and course list.\n",
    "    add all non null majors to major list\n",
    "    remove duplicate elements from course lists\n",
    "    Store in dataframe."
   ]
  },
  {
   "cell_type": "markdown",
   "metadata": {},
   "source": [
    "user logs in/signs up\n",
    "at some point we ask what kind of course recommendations they want (vlpa, natural world, etc.)\n",
    "major_list = []\n",
    "course_list = []\n",
    "recommendation_list = []\n",
    "if new user (no class data availabe):\n",
    "    ask them what their intended majors are:\n",
    "    major_list = [all the enered majors]\n",
    "    filter historic data based on intended majors.\n",
    "    weigh these student's courses based on which major they were filtered for (1st major students courses count thrice,\n",
    "    2nd major students course count twice, etc..)\n",
    "    take the 6 most common courses of the type that the user requested.\n",
    "    if no pre requisits then add courses to recommendation_list.\n",
    "    if course has pre reqs:\n",
    "        add pre reqs to the recommendation list if user hasn't completed all\n",
    "    output recommendation list.\n",
    "else:\n",
    "    get major and course_list from api\n",
    "    major_list = [contains all non null major]\n",
    "    course_list = [all unique courses taken]\n",
    "    if len(course_list) <= 9 and len(major_list) < 1:\n",
    "        ask user for intended majors.\n",
    "        filter historic users based on intended majors.\n",
    "        use some clustering algorithm to find nearest neighbours based on courses taken and majors.\n",
    "        take some k people and take all their courses in a list.\n",
    "        filter courses user has already taken, filter the type of courses user requested.\n",
    "        weigh these student's courses based on which major they were filtered for (1st major students courses count thrice,\n",
    "        2nd major students course count twice, etc..).\n",
    "        Take the 6 most common courses. \n",
    "        if course has pre reqs and user hasn't completed all:\n",
    "            add those pre reqs that the user hasn't taken.\n",
    "        else:\n",
    "            add course itself.\n",
    "        output recommendation list.\n",
    "    if len(course_list) <= 9 and len(major_list) >= 1:\n",
    "    "
   ]
  }
 ],
 "metadata": {
  "kernelspec": {
   "display_name": "Python 3",
   "language": "python",
   "name": "python3"
  },
  "language_info": {
   "codemirror_mode": {
    "name": "ipython",
    "version": 3
   },
   "file_extension": ".py",
   "mimetype": "text/x-python",
   "name": "python",
   "nbconvert_exporter": "python",
   "pygments_lexer": "ipython3",
   "version": "3.6.5"
  }
 },
 "nbformat": 4,
 "nbformat_minor": 2
}
