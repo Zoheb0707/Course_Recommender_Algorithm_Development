{
 "cells": [
  {
   "cell_type": "code",
   "execution_count": 1,
   "metadata": {},
   "outputs": [],
   "source": [
    "import requests\n",
    "import pandas as pd"
   ]
  },
  {
   "cell_type": "code",
   "execution_count": 2,
   "metadata": {},
   "outputs": [],
   "source": [
    "student_data = requests.get('https://secure-plains-22276.herokuapp.com/students/1582283')"
   ]
  },
  {
   "cell_type": "code",
   "execution_count": 3,
   "metadata": {},
   "outputs": [],
   "source": [
    "student_data2 = requests.get('https://secure-plains-22276.herokuapp.com/students/1402365')"
   ]
  },
  {
   "cell_type": "code",
   "execution_count": 19,
   "metadata": {},
   "outputs": [],
   "source": [
    "course_data = requests.get('https://secure-plains-22276.herokuapp.com/courses/1661')"
   ]
  },
  {
   "cell_type": "code",
   "execution_count": 5,
   "metadata": {
    "scrolled": true
   },
   "outputs": [],
   "source": [
    "student_data = student_data.json()\n",
    "student_data2 = student_data2.json()"
   ]
  },
  {
   "cell_type": "code",
   "execution_count": 6,
   "metadata": {},
   "outputs": [
    {
     "data": {
      "text/plain": [
       "'SIS'"
      ]
     },
     "execution_count": 6,
     "metadata": {},
     "output_type": "execute_result"
    }
   ],
   "source": [
    "(student_data)['Major1']"
   ]
  },
  {
   "cell_type": "markdown",
   "metadata": {},
   "source": [
    "for each student\n",
    "    extract major1, major2, major 3 and course list.\n",
    "    add all non null majors to major list\n",
    "    remove duplicate elements from course lists\n",
    "    Store in dataframe."
   ]
  },
  {
   "cell_type": "markdown",
   "metadata": {},
   "source": [
    "user logs in/signs up\n",
    "at some point we ask what kind of course recommendations they want (vlpa, natural world, etc.)\n",
    "major_list = []\n",
    "course_list = []\n",
    "recommendation_list = []\n",
    "if new user (no class data availabe):\n",
    "    ask them what their intended majors are:\n",
    "    major_list = [all the enered majors]\n",
    "    filter historic data based on intended majors.\n",
    "    weigh these student's courses based on which major they were filtered for (1st major students courses count thrice,\n",
    "    2nd major students course count twice, etc..)\n",
    "    take the 6 most common courses of the type that the user requested.\n",
    "    if no pre requisits then add courses to recommendation_list.\n",
    "    if course has pre reqs:\n",
    "        add pre reqs to the recommendation list if user hasn't completed all\n",
    "    output recommendation list.\n",
    "else:\n",
    "    get major and course_list from api\n",
    "    major_list = [contains all non null major]\n",
    "    course_list = [all unique courses taken]\n",
    "    if len(course_list) <= 9 and len(major_list) < 1:\n",
    "        ask user for intended majors.\n",
    "        filter historic users based on intended majors.\n",
    "        use some clustering algorithm to find nearest neighbours based on courses taken and majors.\n",
    "        take some k people and take all their courses in a list.\n",
    "        filter courses user has already taken, filter the type of courses user requested.\n",
    "        weigh these student's courses based on which major they were filtered for (1st major students courses count thrice,\n",
    "        2nd major students course count twice, etc..).\n",
    "        Take the 6 most common courses. \n",
    "        if course has pre reqs and user hasn't completed all:\n",
    "            add those pre reqs that the user hasn't taken.\n",
    "        else:\n",
    "            add course itself.\n",
    "        output recommendation list.\n",
    "    if len(course_list) <= 9 and len(major_list) >= 1:\n",
    "    "
   ]
  },
  {
   "cell_type": "code",
   "execution_count": 32,
   "metadata": {},
   "outputs": [],
   "source": [
    "student_number = 1582283\n",
    "student_number2 = 1402365\n",
    "major_list = [student_data['Major1'], student_data['Major2'], student_data['Major3'], 'test']\n",
    "major_list2 = [student_data2['Major1'], student_data2['Major2'], student_data2['Major3']]\n",
    "course_list = list(set(student_data['courses']))\n",
    "course_list2 = list(set(student_data2['courses']))\n",
    "data = [[student_number, major_list, course_list], [student_number2, major_list2, course_list2]]"
   ]
  },
  {
   "cell_type": "code",
   "execution_count": 33,
   "metadata": {},
   "outputs": [],
   "source": [
    "data = pd.DataFrame(data, columns = ['Student_no', 'major_list', 'course_list'])"
   ]
  },
  {
   "cell_type": "code",
   "execution_count": 34,
   "metadata": {},
   "outputs": [],
   "source": [
    "user_major_list = ['SIS', 'test']"
   ]
  },
  {
   "cell_type": "code",
   "execution_count": 37,
   "metadata": {},
   "outputs": [
    {
     "data": {
      "text/plain": [
       "True"
      ]
     },
     "execution_count": 37,
     "metadata": {},
     "output_type": "execute_result"
    }
   ],
   "source": [
    "'SIS' in set(data.iloc[0]['major_list']).intersection(set(user_major_list))"
   ]
  },
  {
   "cell_type": "code",
   "execution_count": 29,
   "metadata": {},
   "outputs": [],
   "source": [
    "elements_to_keep = [0]"
   ]
  },
  {
   "cell_type": "code",
   "execution_count": 39,
   "metadata": {},
   "outputs": [],
   "source": [
    "major_dict = {'SIS':3, None:2, None:1}"
   ]
  }
 ],
 "metadata": {
  "kernelspec": {
   "display_name": "Python 3",
   "language": "python",
   "name": "python3"
  },
  "language_info": {
   "codemirror_mode": {
    "name": "ipython",
    "version": 3
   },
   "file_extension": ".py",
   "mimetype": "text/x-python",
   "name": "python",
   "nbconvert_exporter": "python",
   "pygments_lexer": "ipython3",
   "version": "3.6.5"
  }
 },
 "nbformat": 4,
 "nbformat_minor": 2
}
