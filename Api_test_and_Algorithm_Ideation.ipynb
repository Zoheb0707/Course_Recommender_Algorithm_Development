{
 "cells": [
  {
   "cell_type": "code",
   "execution_count": 32,
   "metadata": {},
   "outputs": [],
   "source": [
    "import requests\n",
    "import pandas as pd"
   ]
  },
  {
   "cell_type": "code",
   "execution_count": 35,
   "metadata": {},
   "outputs": [],
   "source": [
    "course_list = set()\n",
    "for student_no in [1582283,1402365,1386886,1407986,1493884,1482382,1578352,1116735,1484448,\n",
    "                   1337211,1475699,1727787,1378711,1620340,1398754]:\n",
    "    student_data = requests.get('https://secure-plains-22276.herokuapp.com/students/' + str(student_no)).json()\n",
    "    for course in set(student_data['courses']):\n",
    "        course_list.add(course)"
   ]
  },
  {
   "cell_type": "code",
   "execution_count": 38,
   "metadata": {},
   "outputs": [],
   "source": [
    "unique_end_reqs = set()\n",
    "for course in course_list:\n",
    "    course_data = requests.get('https://secure-plains-22276.herokuapp.com/courses/' + str(course)).json()\n",
    "    if 'Prerequisite:' in course_data['desc']:\n",
    "        all_reqs = (course_data['desc'].split('Prerequisite: ')[1]).split('; ')\n",
    "        unique_end_reqs.add(all_reqs[len(all_reqs) - 1].split('. ')[0])"
   ]
  },
  {
   "cell_type": "code",
   "execution_count": 39,
   "metadata": {},
   "outputs": [
    {
     "data": {
      "text/plain": [
       "{'2.0 in either MATH 124, MATH 134, or MATH 144',\n",
       " 'AMATH 301',\n",
       " 'CHEM 455',\n",
       " 'CHEM 460 which may be taken concurrently',\n",
       " 'CHEM E 310',\n",
       " 'CHEM E 325',\n",
       " 'CHEM E 330',\n",
       " 'CHEM E 340',\n",
       " 'CHEM E 465',\n",
       " 'CHEM E 480 which may be taken concurrently',\n",
       " 'CHEM E 485',\n",
       " 'CSE 332.',\n",
       " 'ECON 200',\n",
       " 'ECON 200.',\n",
       " 'ENTRE 370.',\n",
       " 'ENTRE 472.',\n",
       " 'Either CHEM 142, CHEM 143,  or CHEM 145',\n",
       " 'Either both ENGL 109 and ENGL 110, or any one of the following:  C LIT 240, ENGL 111, ENGL 121, ENGL 131, ENGL 182, ENGL 197, ENGL 198, ENGL 199, ENGL 281, ENGL 282, ENGL 297, ENGL 298, ENGL 299, ENGL 381, ENGL 382, HONORS 205, HONORS 345 Offered: AWSpS.',\n",
       " 'Either minimum grade of 1.7 in BIOL 180 and minimum grade of 1.7 in BIOL 200, or minimum grade of 1.7 in BIOL 240',\n",
       " 'HCDE 231',\n",
       " 'IND E 315 or MATH 390/STAT 390 either of which may be taken concurrently',\n",
       " 'JSIS 202.',\n",
       " 'LATIN 305',\n",
       " 'LATIN 306',\n",
       " 'M E 230',\n",
       " 'M E 333',\n",
       " 'M E 354',\n",
       " 'M E 373',\n",
       " 'M E 374',\n",
       " 'M E 395',\n",
       " 'MKTG 301',\n",
       " 'MKTG 301.',\n",
       " 'MSE 170, CEE 220',\n",
       " 'PHYS 114 or PHYS 121',\n",
       " 'PHYS 114 which may be taken concurrently',\n",
       " 'PHYS 115 or PHYS 122',\n",
       " 'PHYS 121',\n",
       " 'PHYS 122',\n",
       " 'PHYS 122 and MATH 307',\n",
       " 'PHYS 224 which may be taken concurrently',\n",
       " 'PHYS 408',\n",
       " 'Sp.',\n",
       " 'and ACCTG 215 or ACCTG 219,',\n",
       " 'and either CHEM 224, CHEM 238, CHEM 336, or B CHEM 238',\n",
       " 'and either CHEM 242, CHEM 347, or B CHEM 242',\n",
       " 'either 1.7 in CHEM 237, 1.7 in CHEM 335, or 1.7 in B CHEM 237',\n",
       " 'either 1.7 in CHEM 238, 1.7 in CHEM 335 or 1.7 in B CHEM 238',\n",
       " 'either 2.2 in BIOC 406 or 2.2 in BIOC 441, or a 2.2 in BIOC 451',\n",
       " 'either B ECON 300 or ECON 300',\n",
       " 'either B ECON 300 or ECON 300.',\n",
       " 'either C LIT 240, both ENGL 109 and ENGL 110, ENGL 111, ENGL 121, ENGL 131, ENGL 182, ENGL 197, ENGL 198, ENGL 199, or ENGL 281',\n",
       " 'either CHEM 155, CHEM 162, or CHEM 164',\n",
       " 'either CHEM 224, CHEM 239, CHEM 337, or B CHEM 239',\n",
       " 'either CHEM 453, CHEM 455, or CHEM 475, which may be taken concurrently',\n",
       " 'either CHEM 456 or CHEM E 326',\n",
       " 'either CSE 303 or CSE 333.',\n",
       " 'either ECON 311/STAT 311, MATH 390/STAT 390, or Q SCI 381.',\n",
       " 'either HRMOB 300 or MGMT 300.',\n",
       " 'either M E 333 or CEE 342',\n",
       " 'either MATH 136 or MATH 307',\n",
       " 'either MATH 136, MATH 307, or AMATH 351',\n",
       " 'either MATH 307 or AMATH 351',\n",
       " 'either MATH 308 or AMATH 352',\n",
       " 'either PHYS 115 or PHYS 122',\n",
       " 'either PHYS 116 or PHYS 123',\n",
       " 'either SPAN 102, SPAN 110 or score of 45-69 on SP100A placement test',\n",
       " 'either SPAN 201 or score of 76-145 on SP200A placement test.',\n",
       " 'either SPAN 202, SPAN 210, or score of 146-165 on SP200A placement test.',\n",
       " 'either SPAN 203 or score of 166-175 on SP200A placement test.',\n",
       " 'either STAT 390, STAT 391, or CSE 312.',\n",
       " 'either a minimum grade of 2.0 in both MATH 307 and MATH 308 or minimum grade of 2.0 in MATH 136',\n",
       " 'may not be repeated',\n",
       " 'may not be repeated.',\n",
       " 'minimum 2.0 grade in PHYS 123',\n",
       " 'minimum 2.0 grade in PHYS 227',\n",
       " 'minimum 2.0 grade in PSYCH 101.',\n",
       " 'minimum 2.0 in PHYS 321',\n",
       " 'minimum grade of 1.5 in BIOL 200 or BIOL 240 Offered: WSpS.',\n",
       " 'minimum grade of 2.0 in ECON 300.',\n",
       " 'minimum grade of 2.0 in ECON 301.',\n",
       " 'minimum grade of 2.0 in MATH 125',\n",
       " 'minimum grade of 2.0 in MATH 126',\n",
       " 'minimum grade of 2.0 in MATH 327',\n",
       " 'minimum grade of 2.0 in PHYS 225 and PHYS 227 Offered: Sp.',\n",
       " 'minimum grade of 2.0 in either BIOL 200, BIOL 240, B BIO 200, T BIOL 130',\n",
       " 'minimum grade of 2.0 in either MATH 126 or MATH 136',\n",
       " 'minimum grade of 2.0 in either MATH 136 or MATH 308',\n",
       " 'minimum grade of 2.0 in either MATH 136, MATH 308, or AMATH 352',\n",
       " 'minimum grade of 2.0 in either MATH 327 or MATH 334',\n",
       " 'minimum grade of 2.2 in BIOC 440',\n",
       " 'permission of instructor'}"
      ]
     },
     "execution_count": 39,
     "metadata": {},
     "output_type": "execute_result"
    }
   ],
   "source": [
    "unique_end_reqs"
   ]
  },
  {
   "cell_type": "code",
   "execution_count": 31,
   "metadata": {},
   "outputs": [
    {
     "data": {
      "text/plain": [
       "{'desc': 'Elective.',\n",
       " 'INS': False,\n",
       " 'VLPA': False,\n",
       " 'DIV': False,\n",
       " 'W': False,\n",
       " 'QSR': False,\n",
       " 'NW': False,\n",
       " '_id': 12970,\n",
       " 'course_credits': -1,\n",
       " 'course_number': 499,\n",
       " 'dept_abbrev': 'PATH',\n",
       " 'title': 'Undergraduate Research',\n",
       " '__v': 0}"
      ]
     },
     "execution_count": 31,
     "metadata": {},
     "output_type": "execute_result"
    }
   ],
   "source": [
    "course_data"
   ]
  },
  {
   "cell_type": "code",
   "execution_count": 21,
   "metadata": {},
   "outputs": [
    {
     "data": {
      "text/plain": [
       "['minimum grade of 2.5 BIOL 200',\n",
       " '2.5 in either CHEM 224, CHEM 239, or CHEM 337',\n",
       " '2.0 in either MATH 124, MATH 134, or MATH 144. Instructors: Brockerhoff, Klevit, Kollman Offered: A.']"
      ]
     },
     "execution_count": 21,
     "metadata": {},
     "output_type": "execute_result"
    }
   ],
   "source": [
    "(course_data['desc'].split('Prerequisite: ')[1]).split('; ')"
   ]
  },
  {
   "cell_type": "code",
   "execution_count": 5,
   "metadata": {
    "scrolled": true
   },
   "outputs": [],
   "source": [
    "student_data = student_data.json()\n",
    "student_data2 = student_data2.json()"
   ]
  },
  {
   "cell_type": "code",
   "execution_count": 6,
   "metadata": {},
   "outputs": [
    {
     "data": {
      "text/plain": [
       "'SIS'"
      ]
     },
     "execution_count": 6,
     "metadata": {},
     "output_type": "execute_result"
    }
   ],
   "source": [
    "(student_data)['Major1']"
   ]
  },
  {
   "cell_type": "markdown",
   "metadata": {},
   "source": [
    "for each student\n",
    "    extract major1, major2, major 3 and course list.\n",
    "    add all non null majors to major list\n",
    "    remove duplicate elements from course lists\n",
    "    Store in dataframe."
   ]
  },
  {
   "cell_type": "markdown",
   "metadata": {},
   "source": [
    "user logs in/signs up\n",
    "at some point we ask what kind of course recommendations they want (vlpa, natural world, etc.)\n",
    "major_list = []\n",
    "course_list = []\n",
    "recommendation_list = []\n",
    "if new user (no class data availabe):\n",
    "    ask them what their intended majors are:\n",
    "    major_list = [all the enered majors]\n",
    "    filter historic data based on intended majors.\n",
    "    weigh these student's courses based on which major they were filtered for (1st major students courses count thrice,\n",
    "    2nd major students course count twice, etc..)\n",
    "    take the 6 most common courses of the type that the user requested.\n",
    "    if no pre requisits then add courses to recommendation_list.\n",
    "    if course has pre reqs:\n",
    "        add pre reqs to the recommendation list if user hasn't completed all\n",
    "    output recommendation list.\n",
    "else:\n",
    "    get major and course_list from api\n",
    "    major_list = [contains all non null major]\n",
    "    course_list = [all unique courses taken]\n",
    "    if len(course_list) <= 9 and len(major_list) < 1:\n",
    "        ask user for intended majors.\n",
    "        filter historic users based on intended majors.\n",
    "        use some clustering algorithm to find nearest neighbours based on courses taken and majors.\n",
    "        take some k people and take all their courses in a list.\n",
    "        filter courses user has already taken, filter the type of courses user requested.\n",
    "        weigh these student's courses based on which major they were filtered for (1st major students courses count thrice,\n",
    "        2nd major students course count twice, etc..).\n",
    "        Take the 6 most common courses. \n",
    "        if course has pre reqs and user hasn't completed all:\n",
    "            add those pre reqs that the user hasn't taken.\n",
    "        else:\n",
    "            add course itself.\n",
    "        output recommendation list.\n",
    "    if len(course_list) <= 9 and len(major_list) >= 1:\n",
    "    "
   ]
  },
  {
   "cell_type": "code",
   "execution_count": 32,
   "metadata": {},
   "outputs": [],
   "source": [
    "student_number = 1582283\n",
    "student_number2 = 1402365\n",
    "major_list = [student_data['Major1'], student_data['Major2'], student_data['Major3'], 'test']\n",
    "major_list2 = [student_data2['Major1'], student_data2['Major2'], student_data2['Major3']]\n",
    "course_list = list(set(student_data['courses']))\n",
    "course_list2 = list(set(student_data2['courses']))\n",
    "data = [[student_number, major_list, course_list], [student_number2, major_list2, course_list2]]"
   ]
  },
  {
   "cell_type": "code",
   "execution_count": 33,
   "metadata": {},
   "outputs": [],
   "source": [
    "data = pd.DataFrame(data, columns = ['Student_no', 'major_list', 'course_list'])"
   ]
  },
  {
   "cell_type": "code",
   "execution_count": 34,
   "metadata": {},
   "outputs": [],
   "source": [
    "user_major_list = ['SIS', 'test']"
   ]
  },
  {
   "cell_type": "code",
   "execution_count": 37,
   "metadata": {},
   "outputs": [
    {
     "data": {
      "text/plain": [
       "True"
      ]
     },
     "execution_count": 37,
     "metadata": {},
     "output_type": "execute_result"
    }
   ],
   "source": [
    "'SIS' in set(data.iloc[0]['major_list']).intersection(set(user_major_list))"
   ]
  },
  {
   "cell_type": "code",
   "execution_count": 29,
   "metadata": {},
   "outputs": [],
   "source": [
    "elements_to_keep = [0]"
   ]
  },
  {
   "cell_type": "code",
   "execution_count": 39,
   "metadata": {},
   "outputs": [],
   "source": [
    "major_dict = {'SIS':3, None:2, None:1}"
   ]
  }
 ],
 "metadata": {
  "kernelspec": {
   "display_name": "Python 3",
   "language": "python",
   "name": "python3"
  },
  "language_info": {
   "codemirror_mode": {
    "name": "ipython",
    "version": 3
   },
   "file_extension": ".py",
   "mimetype": "text/x-python",
   "name": "python",
   "nbconvert_exporter": "python",
   "pygments_lexer": "ipython3",
   "version": "3.6.5"
  }
 },
 "nbformat": 4,
 "nbformat_minor": 2
}
